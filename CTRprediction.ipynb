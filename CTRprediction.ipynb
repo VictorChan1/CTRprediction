{
 "cells": [
  {
   "cell_type": "markdown",
   "metadata": {},
   "source": [
    "## CTR PREDICtion system based on wide & Deep learning (combined with GBDT)\n",
    "\n",
    "\n",
    "- **實驗目的**：根據用戶的各種特徵來預測用戶對廣告點擊的概率。\n",
    "- **實驗步驟**：    \n",
    "                        1. 資料讀取和資料探索。\n",
    "                        2. 特徵工程。\n",
    "                            a. 時間特徵處理。\n",
    "                            b. 設備IP特徵處理。\n",
    "                            c. 特徵組合。\n",
    "                            d. 根據業務含義生成新特徵。\n",
    "                            e. 丟棄無用特徵。\n",
    "                            f. 合併稀疏特徵。\n",
    "                            g. 對類別特徵進行one-hot編碼\n",
    "                        3. 使用Keras搭建WideDeep模型。\n",
    "                        4. 使用Keras搭建LDG模型。\n",
    "\n",
    "\n",
    "### 項目背景\n",
    "CTR（Click-Through Rate，點擊率，是“推薦系統/計算廣告”等領域的重要指標，對其進行預估是支持進一步地“商品推送/廣告投放”等決策的基礎。我們利用kaggle下載的Avazu dataset的用戶特徵和對應的點擊數據，期望通過這些數據建立模型對用戶的點擊行為進行預測。\n",
    "\n",
    "### 數據含義\n",
    "\n",
    "- id:樣本的id號，id號唯一，為主鍵；\n",
    "- click：是否被點擊， 0為沒被點擊(負樣本)， 1為點擊了的(正樣本)；\n",
    "- hour：精確到小時。形如yyyymmdd，例如14102100表示​​​​2014年10月21日0點；\n",
    "- C1：匿名特徵；\n",
    "- banner_pos：廣告位置；\n",
    "- site_id：站點id；\n",
    "- site_domain：站點域；\n",
    "- site_category：站點類型；\n",
    "- app_id：app ID號；\n",
    "- app_domain：app域；\n",
    "- app_category：app類型；\n",
    "- device_id：設備號；\n",
    "- device_ip：設備IP；\n",
    "- device_mode：設備模型；\n",
    "- device_type：設備類型；\n",
    "- device_conn_type:devide接入類型\n",
    "- C14:匿名特徵；\n",
    "- C15，C16:圖片的長寬；\n",
    "- C17、C19、C21匿名特徵；\n",
    "- C18:匿名特徵；\n",
    "- C20:匿名特徵。\n",
    "\n",
    "---"
   ]
  },
  {
   "cell_type": "markdown",
   "metadata": {},
   "source": [
    "# 實驗參數"
   ]
  },
  {
   "cell_type": "code",
   "execution_count": 505,
   "metadata": {},
   "outputs": [],
   "source": [
    "Test_Epoch=100\n",
    "Test_validation_split=0.05\n",
    "Test_batch_size=20\n",
    "Data_scaler=40000"
   ]
  },
  {
   "cell_type": "markdown",
   "metadata": {},
   "source": [
    "## 步驟一：資料讀取和資料探索"
   ]
  },
  {
   "cell_type": "code",
   "execution_count": 506,
   "metadata": {},
   "outputs": [
    {
     "data": {
      "text/html": [
       "<div>\n",
       "<style scoped>\n",
       "    .dataframe tbody tr th:only-of-type {\n",
       "        vertical-align: middle;\n",
       "    }\n",
       "\n",
       "    .dataframe tbody tr th {\n",
       "        vertical-align: top;\n",
       "    }\n",
       "\n",
       "    .dataframe thead th {\n",
       "        text-align: right;\n",
       "    }\n",
       "</style>\n",
       "<table border=\"1\" class=\"dataframe\">\n",
       "  <thead>\n",
       "    <tr style=\"text-align: right;\">\n",
       "      <th></th>\n",
       "      <th>id</th>\n",
       "      <th>click</th>\n",
       "      <th>hour</th>\n",
       "      <th>C1</th>\n",
       "      <th>banner_pos</th>\n",
       "      <th>site_id</th>\n",
       "      <th>site_domain</th>\n",
       "      <th>site_category</th>\n",
       "      <th>app_id</th>\n",
       "      <th>app_domain</th>\n",
       "      <th>...</th>\n",
       "      <th>device_type</th>\n",
       "      <th>device_conn_type</th>\n",
       "      <th>C14</th>\n",
       "      <th>C15</th>\n",
       "      <th>C16</th>\n",
       "      <th>C17</th>\n",
       "      <th>C18</th>\n",
       "      <th>C19</th>\n",
       "      <th>C20</th>\n",
       "      <th>C21</th>\n",
       "    </tr>\n",
       "  </thead>\n",
       "  <tbody>\n",
       "    <tr>\n",
       "      <th>0</th>\n",
       "      <td>1000009418151094273</td>\n",
       "      <td>0</td>\n",
       "      <td>14102100</td>\n",
       "      <td>1005</td>\n",
       "      <td>0</td>\n",
       "      <td>1fbe01fe</td>\n",
       "      <td>f3845767</td>\n",
       "      <td>28905ebd</td>\n",
       "      <td>ecad2386</td>\n",
       "      <td>7801e8d9</td>\n",
       "      <td>...</td>\n",
       "      <td>1</td>\n",
       "      <td>2</td>\n",
       "      <td>15706</td>\n",
       "      <td>320</td>\n",
       "      <td>50</td>\n",
       "      <td>1722</td>\n",
       "      <td>0</td>\n",
       "      <td>35</td>\n",
       "      <td>-1</td>\n",
       "      <td>79</td>\n",
       "    </tr>\n",
       "    <tr>\n",
       "      <th>1</th>\n",
       "      <td>10000169349117863715</td>\n",
       "      <td>0</td>\n",
       "      <td>14102100</td>\n",
       "      <td>1005</td>\n",
       "      <td>0</td>\n",
       "      <td>1fbe01fe</td>\n",
       "      <td>f3845767</td>\n",
       "      <td>28905ebd</td>\n",
       "      <td>ecad2386</td>\n",
       "      <td>7801e8d9</td>\n",
       "      <td>...</td>\n",
       "      <td>1</td>\n",
       "      <td>0</td>\n",
       "      <td>15704</td>\n",
       "      <td>320</td>\n",
       "      <td>50</td>\n",
       "      <td>1722</td>\n",
       "      <td>0</td>\n",
       "      <td>35</td>\n",
       "      <td>100084</td>\n",
       "      <td>79</td>\n",
       "    </tr>\n",
       "    <tr>\n",
       "      <th>2</th>\n",
       "      <td>10000371904215119486</td>\n",
       "      <td>0</td>\n",
       "      <td>14102100</td>\n",
       "      <td>1005</td>\n",
       "      <td>0</td>\n",
       "      <td>1fbe01fe</td>\n",
       "      <td>f3845767</td>\n",
       "      <td>28905ebd</td>\n",
       "      <td>ecad2386</td>\n",
       "      <td>7801e8d9</td>\n",
       "      <td>...</td>\n",
       "      <td>1</td>\n",
       "      <td>0</td>\n",
       "      <td>15704</td>\n",
       "      <td>320</td>\n",
       "      <td>50</td>\n",
       "      <td>1722</td>\n",
       "      <td>0</td>\n",
       "      <td>35</td>\n",
       "      <td>100084</td>\n",
       "      <td>79</td>\n",
       "    </tr>\n",
       "    <tr>\n",
       "      <th>3</th>\n",
       "      <td>10000640724480838376</td>\n",
       "      <td>0</td>\n",
       "      <td>14102100</td>\n",
       "      <td>1005</td>\n",
       "      <td>0</td>\n",
       "      <td>1fbe01fe</td>\n",
       "      <td>f3845767</td>\n",
       "      <td>28905ebd</td>\n",
       "      <td>ecad2386</td>\n",
       "      <td>7801e8d9</td>\n",
       "      <td>...</td>\n",
       "      <td>1</td>\n",
       "      <td>0</td>\n",
       "      <td>15706</td>\n",
       "      <td>320</td>\n",
       "      <td>50</td>\n",
       "      <td>1722</td>\n",
       "      <td>0</td>\n",
       "      <td>35</td>\n",
       "      <td>100084</td>\n",
       "      <td>79</td>\n",
       "    </tr>\n",
       "    <tr>\n",
       "      <th>4</th>\n",
       "      <td>10000679056417042096</td>\n",
       "      <td>0</td>\n",
       "      <td>14102100</td>\n",
       "      <td>1005</td>\n",
       "      <td>1</td>\n",
       "      <td>fe8cc448</td>\n",
       "      <td>9166c161</td>\n",
       "      <td>0569f928</td>\n",
       "      <td>ecad2386</td>\n",
       "      <td>7801e8d9</td>\n",
       "      <td>...</td>\n",
       "      <td>1</td>\n",
       "      <td>0</td>\n",
       "      <td>18993</td>\n",
       "      <td>320</td>\n",
       "      <td>50</td>\n",
       "      <td>2161</td>\n",
       "      <td>0</td>\n",
       "      <td>35</td>\n",
       "      <td>-1</td>\n",
       "      <td>157</td>\n",
       "    </tr>\n",
       "  </tbody>\n",
       "</table>\n",
       "<p>5 rows × 24 columns</p>\n",
       "</div>"
      ],
      "text/plain": [
       "                     id  click      hour    C1  banner_pos   site_id  \\\n",
       "0   1000009418151094273      0  14102100  1005           0  1fbe01fe   \n",
       "1  10000169349117863715      0  14102100  1005           0  1fbe01fe   \n",
       "2  10000371904215119486      0  14102100  1005           0  1fbe01fe   \n",
       "3  10000640724480838376      0  14102100  1005           0  1fbe01fe   \n",
       "4  10000679056417042096      0  14102100  1005           1  fe8cc448   \n",
       "\n",
       "  site_domain site_category    app_id app_domain  ... device_type  \\\n",
       "0    f3845767      28905ebd  ecad2386   7801e8d9  ...           1   \n",
       "1    f3845767      28905ebd  ecad2386   7801e8d9  ...           1   \n",
       "2    f3845767      28905ebd  ecad2386   7801e8d9  ...           1   \n",
       "3    f3845767      28905ebd  ecad2386   7801e8d9  ...           1   \n",
       "4    9166c161      0569f928  ecad2386   7801e8d9  ...           1   \n",
       "\n",
       "  device_conn_type    C14  C15  C16   C17  C18  C19     C20  C21  \n",
       "0                2  15706  320   50  1722    0   35      -1   79  \n",
       "1                0  15704  320   50  1722    0   35  100084   79  \n",
       "2                0  15704  320   50  1722    0   35  100084   79  \n",
       "3                0  15706  320   50  1722    0   35  100084   79  \n",
       "4                0  18993  320   50  2161    0   35      -1  157  \n",
       "\n",
       "[5 rows x 24 columns]"
      ]
     },
     "execution_count": 506,
     "metadata": {},
     "output_type": "execute_result"
    }
   ],
   "source": [
    "# 導入依賴庫\n",
    "import pandas as pd\n",
    "import numpy as np\n",
    "#加載資料\n",
    "train = pd.read_csv('train.csv',nrows=Data_scaler)\n",
    "#打印前5行資料\n",
    "train.head(5)"
   ]
  },
  {
   "cell_type": "markdown",
   "metadata": {},
   "source": [
    "#### 查看標籤分佈"
   ]
  },
  {
   "cell_type": "code",
   "execution_count": 507,
   "metadata": {},
   "outputs": [
    {
     "name": "stdout",
     "output_type": "stream",
     "text": [
      "0    32989\n",
      "1     7011\n",
      "Name: click, dtype: int64\n"
     ]
    }
   ],
   "source": [
    "print(pd.value_counts(train['click']))\n",
    "#print(pd.value_counts(features['click']))"
   ]
  },
  {
   "cell_type": "markdown",
   "metadata": {},
   "source": [
    "#### 查看每列特徵類型\n",
    "\n",
   ]
  },
  {
   "cell_type": "code",
   "execution_count": 508,
   "metadata": {},
   "outputs": [
    {
     "name": "stdout",
     "output_type": "stream",
     "text": [
      "feature name:C1,type:int64\n",
      "feature name:C14,type:int64\n",
      "feature name:C15,type:int64\n",
      "feature name:C16,type:int64\n",
      "feature name:C17,type:int64\n",
      "feature name:C18,type:int64\n",
      "feature name:C19,type:int64\n",
      "feature name:C20,type:int64\n",
      "feature name:C21,type:int64\n",
      "feature name:app_category,type:object\n",
      "feature name:app_domain,type:object\n",
      "feature name:app_id,type:object\n",
      "feature name:banner_pos,type:int64\n",
      "feature name:device_conn_type,type:int64\n",
      "feature name:device_id,type:object\n",
      "feature name:device_ip,type:object\n",
      "feature name:device_model,type:object\n",
      "feature name:device_type,type:int64\n",
      "feature name:hour,type:int64\n",
      "feature name:id,type:uint64\n",
      "feature name:site_category,type:object\n",
      "feature name:site_domain,type:object\n",
      "feature name:site_id,type:object\n"
     ]
    }
   ],
   "source": [
    "for col_name in train.columns.difference(['click']):\n",
    "    print('feature name:{},type:{}'.format(col_name,train[col_name].dtype))"
   ]
  },
  {
   "cell_type": "markdown",
   "metadata": {},
   "source": [
    "#### 查看每列特徵的出現次數最多的三個值和出現次數最少的三個值\n",
    "\n",
    "從下面的輸出結果可以看出，我們可以將所有的特徵都當作類別特徵進行處理，並且大部分類別特徵存在長尾的情況。"
   ]
  },
  {
   "cell_type": "code",
   "execution_count": 509,
   "metadata": {},
   "outputs": [
    {
     "name": "stdout",
     "output_type": "stream",
     "text": [
      "1005    36926\n",
      "1002     1677\n",
      "1010     1340\n",
      "Name: C1, dtype: int64\n",
      "--------------------\n",
      "1007    43\n",
      "1001    10\n",
      "1008     4\n",
      "Name: C1, dtype: int64\n",
      "====================\n",
      "20596    2696\n",
      "18993    2675\n",
      "15701    1865\n",
      "Name: C14, dtype: int64\n",
      "--------------------\n",
      "20295    1\n",
      "20271    1\n",
      "21202    1\n",
      "Name: C14, dtype: int64\n",
      "====================\n",
      "320    38034\n",
      "300     1608\n",
      "216      350\n",
      "Name: C15, dtype: int64\n",
      "--------------------\n",
      "216    350\n",
      "728      7\n",
      "120      1\n",
      "Name: C15, dtype: int64\n",
      "====================\n",
      "50     38239\n",
      "250     1394\n",
      "36       350\n",
      "Name: C16, dtype: int64\n",
      "--------------------\n",
      "480    9\n",
      "90     7\n",
      "20     1\n",
      "Name: C16, dtype: int64\n",
      "====================\n",
      "1722    15392\n",
      "2161     5371\n",
      "2333     4247\n",
      "Name: C17, dtype: int64\n",
      "--------------------\n",
      "2483    1\n",
      "2397    1\n",
      "2425    1\n",
      "Name: C17, dtype: int64\n",
      "====================\n",
      "0    27699\n",
      "3     7376\n",
      "2     4836\n",
      "Name: C18, dtype: int64\n",
      "--------------------\n",
      "3    7376\n",
      "2    4836\n",
      "1      89\n",
      "Name: C18, dtype: int64\n",
      "====================\n",
      "35     22329\n",
      "39      8733\n",
      "297     1629\n",
      "Name: C19, dtype: int64\n",
      "--------------------\n",
      "1071    2\n",
      "425     1\n",
      "33      1\n",
      "Name: C19, dtype: int64\n",
      "====================\n",
      "-1         24843\n",
      " 100084     4640\n",
      " 100111     1612\n",
      "Name: C20, dtype: int64\n",
      "--------------------\n",
      "100071    1\n",
      "100004    1\n",
      "100143    1\n",
      "Name: C20, dtype: int64\n",
      "====================\n",
      "79     15392\n",
      "157     9618\n",
      "23      2834\n",
      "Name: C21, dtype: int64\n",
      "--------------------\n",
      "70    7\n",
      "85    3\n",
      "20    2\n",
      "Name: C21, dtype: int64\n",
      "====================\n",
      "07d7df22    31466\n",
      "0f2161f8     6074\n",
      "f95efa07     1136\n",
      "Name: app_category, dtype: int64\n",
      "--------------------\n",
      "7113d72a    3\n",
      "a86a3e89    2\n",
      "a7fd01ec    1\n",
      "Name: app_category, dtype: int64\n",
      "====================\n",
      "7801e8d9    33153\n",
      "2347f47a     3019\n",
      "82e27996      953\n",
      "Name: app_domain, dtype: int64\n",
      "--------------------\n",
      "88293ffa    1\n",
      "1ea19ec4    1\n",
      "2b627705    1\n",
      "Name: app_domain, dtype: int64\n",
      "====================\n",
      "ecad2386    31201\n",
      "febd1138      953\n",
      "e2fcccd2      679\n",
      "Name: app_id, dtype: int64\n",
      "--------------------\n",
      "ee1a8dfc    1\n",
      "577ec76d    1\n",
      "a8259bf6    1\n",
      "Name: app_id, dtype: int64\n",
      "====================\n",
      "0    32097\n",
      "1     7891\n",
      "2        5\n",
      "Name: banner_pos, dtype: int64\n",
      "--------------------\n",
      "2    5\n",
      "5    4\n",
      "4    3\n",
      "Name: banner_pos, dtype: int64\n",
      "====================\n",
      "0    36282\n",
      "2     3213\n",
      "3      471\n",
      "Name: device_conn_type, dtype: int64\n",
      "--------------------\n",
      "2    3213\n",
      "3     471\n",
      "5      34\n",
      "Name: device_conn_type, dtype: int64\n",
      "====================\n",
      "a99f214a    34718\n",
      "c357dbff       62\n",
      "a167aa83       29\n",
      "Name: device_id, dtype: int64\n",
      "--------------------\n",
      "2abd819f    1\n",
      "52096a4a    1\n",
      "28ebbf89    1\n",
      "Name: device_id, dtype: int64\n",
      "====================\n",
      "6b9769f2    329\n",
      "ceffea69    152\n",
      "9b1fe278    152\n",
      "Name: device_ip, dtype: int64\n",
      "--------------------\n",
      "6bd3f3c9    1\n",
      "c7ea419b    1\n",
      "471369a7    1\n",
      "Name: device_ip, dtype: int64\n",
      "====================\n",
      "8a4875bd    2714\n",
      "d787e91b    2086\n",
      "1f0bc64f    1504\n",
      "Name: device_model, dtype: int64\n",
      "--------------------\n",
      "2e21ca76    1\n",
      "7be36d0e    1\n",
      "8da868a0    1\n",
      "Name: device_model, dtype: int64\n",
      "====================\n",
      "1    36983\n",
      "0     1677\n",
      "4     1253\n",
      "Name: device_type, dtype: int64\n",
      "--------------------\n",
      "0    1677\n",
      "4    1253\n",
      "5      87\n",
      "Name: device_type, dtype: int64\n",
      "====================\n",
      "14102100    40000\n",
      "Name: hour, dtype: int64\n",
      "--------------------\n",
      "14102100    40000\n",
      "Name: hour, dtype: int64\n",
      "====================\n",
      "28905ebd    15113\n",
      "50e219e0    10219\n",
      "f028772b     7816\n",
      "Name: site_category, dtype: int64\n",
      "--------------------\n",
      "bcf865d9    3\n",
      "110ab22d    1\n",
      "42a36e14    1\n",
      "Name: site_category, dtype: int64\n",
      "====================\n",
      "f3845767    14043\n",
      "c4e18dd6     9426\n",
      "c7ca3108     2793\n",
      "Name: site_domain, dtype: int64\n",
      "--------------------\n",
      "4c4b62bb    1\n",
      "c0ad7098    1\n",
      "72c4a2ba    1\n",
      "Name: site_domain, dtype: int64\n",
      "====================\n",
      "1fbe01fe    14043\n",
      "85f751fd     8799\n",
      "543a539e     2793\n",
      "Name: site_id, dtype: int64\n",
      "--------------------\n",
      "7034b859    1\n",
      "d8540407    1\n",
      "160250e4    1\n",
      "Name: site_id, dtype: int64\n",
      "====================\n"
     ]
    }
   ],
   "source": [
    "for col_name in train.columns.difference(['id','click']):\n",
    "    print(pd.value_counts(train[col_name])[:3])\n",
    "    print('-'*20)\n",
    "    print(pd.value_counts(train[col_name])[-3:])\n",
    "    print('='*20)"
   ]
  },
  {
   "cell_type": "markdown",
   "metadata": {},
   "source": [
    "---\n",
    "\n",
    "## 步驟二：特徵工程\n",
    "\n",
    "原始的特徵蘊含的信息還不夠豐富，我們將通過一些手段，根據原始的特徵生成新的更有意義的特徵，以方便我們後面神經網絡更好的學習到點擊的規律。\n"
   ]
  },
  {
   "cell_type": "code",
   "execution_count": 510,
   "metadata": {},
   "outputs": [],
   "source": [
    "# 拷貝資料\n",
    "all_data = train.copy()"
   ]
  },
  {
   "cell_type": "markdown",
   "metadata": {},
   "source": [
    "### a. 時間特徵處理。\n",
    "\n",
    "首先我們將通過hour特徵得到這是具體的哪一天。除此以外，一般週末大家上網娛樂的頻率會更高，所以我們還會得到這是一周的哪一天。最後我們還會得到這是一天中的哪一小時，因為大家可能晚上上網娛樂的頻率會更高（白天要上班）。"
   ]
  },
  {
   "cell_type": "code",
   "execution_count": 511,
   "metadata": {},
   "outputs": [],
   "source": [
    "# 拷貝資料\n",
    "all_data = train.copy()\n",
    "# 轉換為格式日期\n",
    "all_data['Date'] = pd.to_datetime(all_data['hour'], format='%y%m%d%H')\n",
    "# 獲取具體哪一天\n",
    "all_data['Day'] = all_data['Date'].dt.day\n",
    "# 獲取是周幾\n",
    "all_data['Week'] = all_data['Date'].dt.dayofweek\n",
    "# 獲取一天中的哪一個小時\n",
    "all_data['Hour'] = all_data['Date'].dt.hour\n",
    "# 刪除無用特徵\n",
    "all_data.drop(['Date', 'hour'], axis=1, inplace=True)"
   ]
  },
  {
   "cell_type": "markdown",
   "metadata": {},
   "source": [
    "### b. 設備IP特徵處理。\n",
    "\n",
    "不同的設備有不同的IP地址，但是同一網段內的設備很大概率是在同一區域，所以我們可以通過截取IP地址的前幾位，來對設備的歸屬地進行一個分類。"
   ]
  },
  {
   "cell_type": "code",
   "execution_count": 512,
   "metadata": {},
   "outputs": [],
   "source": [
    "# 設備IP特徵\n",
    "all_data['Ip_address'] = all_data['device_ip'].apply(lambda ip: ip[:4])"
   ]
  },
  {
   "cell_type": "markdown",
   "metadata": {},
   "source": [
    "### c. 特徵組合\n",
    "特徵組合是在CTR預估中用的非常多的技術，意思是通過把某兩個或者多個特徵拼接到一起，從而形成一個新的特徵。這樣可以使得數據的表徵能力更強。"
   ]
  },
  {
   "cell_type": "code",
   "execution_count": 513,
   "metadata": {},
   "outputs": [],
   "source": [
    "# 特徵組合\n",
    "# 這裡我們選擇把''site_id','site_domain','app_id','app_domain','site_id','app_id'分別進行特徵組合\n",
    "union_value_fn = lambda feature1, feature2: np.add(all_data[feature1].astype(str).values, all_data[feature2].astype(str).values)\n",
    "all_data['Site_id_site_domain'] = union_value_fn('site_id',  'site_domain')\n",
    "all_data['App_id_app_domain'] = union_value_fn('app_id', 'app_domain')\n",
    "all_data['Site_id_app_id'] = union_value_fn('site_id', 'app_id')"
   ]
  },
  {
   "cell_type": "markdown",
   "metadata": {},
   "source": [
    "### d. 根據業務含義生成新特徵。\n",
    "通過查看app_id發現，大部分app_id來自於`ecad2386`字段，猜測`ecad2386`字段很大可能是表示使用手機app上網，而其餘的字段表示使用其他的一些pc和終端上網。所以我們生成一個新的特徵，來表示是否是手機上網。"
   ]
  },
  {
   "cell_type": "code",
   "execution_count": 514,
   "metadata": {},
   "outputs": [],
   "source": [
    "# 根據業務含義生成新特徵\n",
    "all_data['web_or_app'] = 0\n",
    "all_data.loc[all_data.app_id.values=='ecad2386', 'web_or_app'] = 1"
   ]
  },
  {
   "cell_type": "markdown",
   "metadata": {},
   "source": [
    "### e. 丟棄無用特徵。\n",
    "用戶的ID特徵對於我們預測點擊率是沒有意義的，因為每個用戶的ID都是不同的，這個特徵對於我們不具有預測性。"
   ]
  },
  {
   "cell_type": "code",
   "execution_count": 515,
   "metadata": {},
   "outputs": [],
   "source": [
    "# 丢棄不用的特徵\n",
    "all_data = all_data.drop(['id'], axis=1)"
   ]
  },
  {
   "cell_type": "markdown",
   "metadata": {},
   "source": [
    "### f. 合併稀疏特徵。\n",
    "通過步驟一我們能看到很多特徵是具有長尾效應的。所以我們將特徵中的一些長尾值進行合併，如果這個特徵的特徵值數量大於30個，且出現次數小於10個的,我們將它們合併值為`-11` "
   ]
  },
  {
   "cell_type": "code",
   "execution_count": 516,
   "metadata": {},
   "outputs": [],
   "source": [
    "# 合併稀疏特徵 \n",
    "less_than_num = 10\n",
    "features = list(set(all_data.columns.values) - set(['C1', 'click','banner_pos', 'site_category', 'app_category', 'device_type', 'device_conn_type','C18']))"
   ]
  },
  {
   "cell_type": "code",
   "execution_count": 517,
   "metadata": {},
   "outputs": [
    {
     "name": "stderr",
     "output_type": "stream",
     "text": [
      "100%|██████████| 22/22 [00:26<00:00,  1.89s/it]\n"
     ]
    }
   ],
   "source": [
    "# 這里合並比較消耗時間\n",
    "from tqdm import tqdm\n",
    "for col in tqdm(features):\n",
    "    count_arr = all_data[col].value_counts()\n",
    "    merge_values = [v for v in count_arr.index.values if count_arr[v] < less_than_num and len(count_arr.index.values) > 30]\n",
    "    if merge_values:\n",
    "        all_data[col] = all_data[col].replace(merge_values, '-11' if all_data[col].dtype == object else -11)"
   ]
  },
  {
   "cell_type": "code",
   "execution_count": 518,
   "metadata": {},
   "outputs": [
    {
     "name": "stdout",
     "output_type": "stream",
     "text": [
      "feature name:C1,type:int64\n",
      "feature name:C14,type:int64\n",
      "feature name:C15,type:int64\n",
      "feature name:C16,type:int64\n",
      "feature name:C17,type:int64\n",
      "feature name:C18,type:int64\n",
      "feature name:C19,type:int64\n",
      "feature name:C20,type:int64\n",
      "feature name:C21,type:int64\n",
      "feature name:app_category,type:object\n",
      "feature name:app_domain,type:object\n",
      "feature name:app_id,type:object\n",
      "feature name:banner_pos,type:int64\n",
      "feature name:device_conn_type,type:int64\n",
      "feature name:device_id,type:object\n",
      "feature name:device_ip,type:object\n",
      "feature name:device_model,type:object\n",
      "feature name:device_type,type:int64\n",
      "feature name:hour,type:int64\n",
      "feature name:id,type:uint64\n",
      "feature name:site_category,type:object\n",
      "feature name:site_domain,type:object\n",
      "feature name:site_id,type:object\n"
     ]
    }
   ],
   "source": [
    "for col_name in train.columns.difference(['click']):\n",
    "    print('feature name:{},type:{}'.format(col_name,train[col_name].dtype))"
   ]
  },
  {
   "cell_type": "markdown",
   "metadata": {},
   "source": [
    "### g. 對類別特徵進行one-hot編碼。\n",
    "由於我們將所有的特徵均看為類別特徵，我們將對所有的類別特徵進行one-hot編碼，從而得到一個非常稀疏的矩陣。矩陣的每一行代表一個用戶的特徵向量，這些向量就將是我們後面神經網絡的輸入，`click`就是對應的標籤。"
   ]
  },
  {
   "cell_type": "code",
   "execution_count": 519,
   "metadata": {},
   "outputs": [],
   "source": [
    "# 首先對類別特徵進行編碼\n",
    "from sklearn.preprocessing import LabelEncoder\n",
    "features = list(all_data.columns.values)\n",
    "features.remove('click')\n",
    "all_data[features] = all_data[features].apply(LabelEncoder().fit_transform)\n",
    "# 然後對編碼後的類別特徵one-hot編碼\n",
    "_fn = lambda col_name: pd.get_dummies(all_data[col_name],prefix=col_name)\n",
    "onehot_data = pd.concat(map(_fn, features), axis=1)"
   ]
  },
  {
   "cell_type": "markdown",
   "metadata": {},
   "source": [
    "### 獲得最終的特徵和標籤"
   ]
  },
  {
   "cell_type": "code",
   "execution_count": 520,
   "metadata": {},
   "outputs": [
    {
     "name": "stdout",
     "output_type": "stream",
     "text": [
      "1.14.0\n"
     ]
    }
   ],
   "source": [
    "import tensorflow as tf\n",
    "print(tf.__version__)"
   ]
  },
  {
   "cell_type": "code",
   "execution_count": 521,
   "metadata": {},
   "outputs": [
    {
     "data": {
      "text/html": [
       "<div>\n",
       "<style scoped>\n",
       "    .dataframe tbody tr th:only-of-type {\n",
       "        vertical-align: middle;\n",
       "    }\n",
       "\n",
       "    .dataframe tbody tr th {\n",
       "        vertical-align: top;\n",
       "    }\n",
       "\n",
       "    .dataframe thead th {\n",
       "        text-align: right;\n",
       "    }\n",
       "</style>\n",
       "<table border=\"1\" class=\"dataframe\">\n",
       "  <thead>\n",
       "    <tr style=\"text-align: right;\">\n",
       "      <th></th>\n",
       "      <th>C1_0</th>\n",
       "      <th>C1_1</th>\n",
       "      <th>C1_2</th>\n",
       "      <th>C1_3</th>\n",
       "      <th>C1_4</th>\n",
       "      <th>C1_5</th>\n",
       "      <th>banner_pos_0</th>\n",
       "      <th>banner_pos_1</th>\n",
       "      <th>banner_pos_2</th>\n",
       "      <th>banner_pos_3</th>\n",
       "      <th>...</th>\n",
       "      <th>Site_id_app_id_274</th>\n",
       "      <th>Site_id_app_id_275</th>\n",
       "      <th>Site_id_app_id_276</th>\n",
       "      <th>Site_id_app_id_277</th>\n",
       "      <th>Site_id_app_id_278</th>\n",
       "      <th>Site_id_app_id_279</th>\n",
       "      <th>Site_id_app_id_280</th>\n",
       "      <th>Site_id_app_id_281</th>\n",
       "      <th>web_or_app_0</th>\n",
       "      <th>web_or_app_1</th>\n",
       "    </tr>\n",
       "  </thead>\n",
       "  <tbody>\n",
       "    <tr>\n",
       "      <th>0</th>\n",
       "      <td>0</td>\n",
       "      <td>0</td>\n",
       "      <td>1</td>\n",
       "      <td>0</td>\n",
       "      <td>0</td>\n",
       "      <td>0</td>\n",
       "      <td>1</td>\n",
       "      <td>0</td>\n",
       "      <td>0</td>\n",
       "      <td>0</td>\n",
       "      <td>...</td>\n",
       "      <td>0</td>\n",
       "      <td>0</td>\n",
       "      <td>0</td>\n",
       "      <td>0</td>\n",
       "      <td>0</td>\n",
       "      <td>0</td>\n",
       "      <td>0</td>\n",
       "      <td>0</td>\n",
       "      <td>0</td>\n",
       "      <td>1</td>\n",
       "    </tr>\n",
       "    <tr>\n",
       "      <th>1</th>\n",
       "      <td>0</td>\n",
       "      <td>0</td>\n",
       "      <td>1</td>\n",
       "      <td>0</td>\n",
       "      <td>0</td>\n",
       "      <td>0</td>\n",
       "      <td>1</td>\n",
       "      <td>0</td>\n",
       "      <td>0</td>\n",
       "      <td>0</td>\n",
       "      <td>...</td>\n",
       "      <td>0</td>\n",
       "      <td>0</td>\n",
       "      <td>0</td>\n",
       "      <td>0</td>\n",
       "      <td>0</td>\n",
       "      <td>0</td>\n",
       "      <td>0</td>\n",
       "      <td>0</td>\n",
       "      <td>0</td>\n",
       "      <td>1</td>\n",
       "    </tr>\n",
       "  </tbody>\n",
       "</table>\n",
       "<p>2 rows × 2685 columns</p>\n",
       "</div>"
      ],
      "text/plain": [
       "   C1_0  C1_1  C1_2  C1_3  C1_4  C1_5  banner_pos_0  banner_pos_1  \\\n",
       "0     0     0     1     0     0     0             1             0   \n",
       "1     0     0     1     0     0     0             1             0   \n",
       "\n",
       "   banner_pos_2  banner_pos_3  ...  Site_id_app_id_274  Site_id_app_id_275  \\\n",
       "0             0             0  ...                   0                   0   \n",
       "1             0             0  ...                   0                   0   \n",
       "\n",
       "   Site_id_app_id_276  Site_id_app_id_277  Site_id_app_id_278  \\\n",
       "0                   0                   0                   0   \n",
       "1                   0                   0                   0   \n",
       "\n",
       "   Site_id_app_id_279  Site_id_app_id_280  Site_id_app_id_281  web_or_app_0  \\\n",
       "0                   0                   0                   0             0   \n",
       "1                   0                   0                   0             0   \n",
       "\n",
       "   web_or_app_1  \n",
       "0             1  \n",
       "1             1  \n",
       "\n",
       "[2 rows x 2685 columns]"
      ]
     },
     "execution_count": 521,
     "metadata": {},
     "output_type": "execute_result"
    }
   ],
   "source": [
    "# 打印特征和标签\n",
    "onehot_data[:2]"
   ]
  },
  {
   "cell_type": "code",
   "execution_count": 522,
   "metadata": {},
   "outputs": [
    {
     "name": "stdout",
     "output_type": "stream",
     "text": [
      "[[0 0 1 ... 0 0 1]\n",
      " [0 0 1 ... 0 0 1]\n",
      " [0 0 1 ... 0 0 1]\n",
      " ...\n",
      " [0 0 1 ... 0 0 1]\n",
      " [0 0 1 ... 0 0 1]\n",
      " [0 1 0 ... 0 0 1]]\n"
     ]
    }
   ],
   "source": [
    "# 獲得特徵和標籤\n",
    "features = onehot_data.values\n",
    "label = all_data[['click']].values.reshape(-1)\n",
    "print(features[:10])"
   ]
  },
  {
   "cell_type": "code",
   "execution_count": 523,
   "metadata": {},
   "outputs": [
    {
     "name": "stdout",
     "output_type": "stream",
     "text": [
      "feature shape:(40000, 2685)\n",
      "label shape:(40000,)\n"
     ]
    }
   ],
   "source": [
    "# 查看數據維度\n",
    "print('feature shape:{}'.format(features.shape))\n",
    "print('label shape:{}'.format(label.shape))\n",
    "input_demen=features.shape[1]"
   ]
  },
  {
   "cell_type": "markdown",
   "metadata": {},
   "source": [
    "# Uti"
   ]
  },
  {
   "cell_type": "code",
   "execution_count": 524,
   "metadata": {},
   "outputs": [],
   "source": [
    "def print_result_of_train(h_name):\n",
    "    aver_acc=pd.DataFrame(h_name.history['acc']).mean()\n",
    "    aver_val_acc=pd.DataFrame(h_name.history['val_acc']).mean()\n",
    "    aver_loss=pd.DataFrame(h_name.history['loss']).mean()\n",
    "    aver_val_loss=pd.DataFrame(h_name.history['val_loss']).mean()\n",
    "    print(\"平均acc:\",aver_acc)\n",
    "    print(\"平均val_acc:\",aver_val_acc,\"\\n\")\n",
    "    print(\"平均loss:\",aver_loss)\n",
    "    print(\"平均val_loss:\",aver_val_loss)\n",
    "    return aver_acc,aver_val_acc,aver_loss,aver_val_loss\n",
    "def print_mat(h_name):\n",
    "    import matplotlib.pyplot as plt\n",
    "    #plot_model(model, to_file='lr_model.png')\n",
    "    # 繪製訓練 & 驗證的準確率值\n",
    "    plt.plot(h_name.history['acc'])\n",
    "    plt.plot(h_name.history['val_acc'])\n",
    "    plt.title('Model accuracy')\n",
    "    plt.ylabel('Accuracy')\n",
    "    plt.xlabel('Epoch')\n",
    "    plt.legend(['Train', 'val'], loc='upper left')\n",
    "    plt.show()\n",
    "\n",
    "    # 繪製訓練 & 驗證的損失值\n",
    "    plt.plot(h_name.history['loss'])\n",
    "    plt.plot(h_name.history['val_loss'])\n",
    "    plt.title('Model loss')\n",
    "    plt.ylabel('Loss')\n",
    "    plt.xlabel('Epoch')\n",
    "    plt.legend(['Train', 'val'], loc='upper left')\n",
    "    plt.show()\n",
    "    \n",
    "def print_acc_loss_compare(n_list,type='acc'):\n",
    "    model_name=['w&d','gld']\n",
    "    max_index=n_list.index(max(n_list))\n",
    "    min_index=n_list.index(min(n_list))\n",
    "    for name,num in zip(model_name,n_list):\n",
    "        if (type ==\"acc\" or type == \"vacc\") and num==n_list[max_index]:\n",
    "            if type ==\"acc\":\n",
    "                print(\"model_name:\",name,\"\\nindex:\",max_index,\"\\nAcc score:\",n_list[max_index])\n",
    "            elif type ==\"vacc\":\n",
    "                print(\"model_name:\",name,\"\\nindex:\",max_index,\"\\n Value acc score:\",n_list[max_index])\n",
    "            break\n",
    "            \n",
    "        if (type ==\"loss\" or type == \"vloss\") and num==n_list[min_index]:\n",
    "            if type ==\"loss\":\n",
    "                print(\"model_name:\",name,\"\\nindex:\",min_index,\"\\nLoss score:\",n_list[max_index])\n",
    "            elif type ==\"vloss\":                \n",
    "                print(\"model_name:\",name,\"\\nindex:\",min_index,\"\\n Value loss score:\",n_list[max_index])\n",
    "            break"
   ]
  },
  {
   "cell_type": "markdown",
   "metadata": {},
   "source": [
    "# GBDT+LR"
   ]
  },
  {
   "cell_type": "code",
   "execution_count": 525,
   "metadata": {},
   "outputs": [
    {
     "name": "stdout",
     "output_type": "stream",
     "text": [
      "feature1 (40000, 50, 1)\n",
      "feature2 (40000, 50)\n"
     ]
    }
   ],
   "source": [
    "from sklearn.ensemble import GradientBoostingClassifier\n",
    "\n",
    "gbm1 = GradientBoostingClassifier(n_estimators=50,random_state=7,max_depth=5,min_samples_split=900)\n",
    "gbm1.fit(features,label)\n",
    "\n",
    "train_new_feature = gbm1.apply(features)\n",
    "print(\"feature1\",train_new_feature.shape)\n",
    "train_new_feature = train_new_feature.reshape(-1,50)\n",
    "print(\"feature2\",train_new_feature.shape)"
   ]
  },
  {
   "cell_type": "code",
   "execution_count": 526,
   "metadata": {},
   "outputs": [
    {
     "name": "stdout",
     "output_type": "stream",
     "text": [
      "[ 5.  5.  5. 15. 19. 16. 19. 16. 12. 14. 17. 14.  5.  5.  6.  8. 12. 10.\n",
      "  5.  5. 10.  5.  8.  5.  5.  5.  5.  5.  5.  6.  5.  5.  5.  5.  8.  5.\n",
      "  5.  5.  5. 14.  5.  5.  5.  6.  5.  5.  5.  5.  5.  5.]\n"
     ]
    }
   ],
   "source": [
    "print(train_new_feature[0])"
   ]
  },
  {
   "cell_type": "code",
   "execution_count": 527,
   "metadata": {},
   "outputs": [
    {
     "name": "stderr",
     "output_type": "stream",
     "text": [
      "/Users/victor/anaconda3/lib/python3.7/site-packages/sklearn/preprocessing/_encoders.py:415: FutureWarning: The handling of integer data will change in version 0.22. Currently, the categories are determined based on the range [0, max(values)], while in the future they will be determined based on the unique values.\n",
      "If you want the future behaviour and silence this warning, you can specify \"categories='auto'\".\n",
      "In case you used a LabelEncoder before this OneHotEncoder to convert the categories to integers, then you can now use the OneHotEncoder directly.\n",
      "  warnings.warn(msg, FutureWarning)\n"
     ]
    },
    {
     "name": "stdout",
     "output_type": "stream",
     "text": [
      "(40000, 582)\n"
     ]
    }
   ],
   "source": [
    "from sklearn.preprocessing import OneHotEncoder\n",
    "enc = OneHotEncoder()\n",
    "enc.fit(train_new_feature)\n",
    "GBDT_feature = np.array(enc.transform(train_new_feature).toarray())\n",
    "print(GBDT_feature.shape)\n",
    "GBDT_input_demen=GBDT_feature.shape[1]"
   ]
  },
  {
   "cell_type": "markdown",
   "metadata": {},
   "source": [
    "# Wide&Deep"
   ]
  },
  {
   "cell_type": "code",
   "execution_count": 528,
   "metadata": {},
   "outputs": [],
   "source": [
    "# 获取类别特征编码后的数据(注意不是onehot编码的数据)\n",
    "feature_WD = all_data[all_data.columns.difference(['click'])].values\n",
    "label = all_data[['click']].values.reshape(-1)\n",
    "label_WD = label.copy()"
   ]
  },
  {
   "cell_type": "code",
   "execution_count": 529,
   "metadata": {},
   "outputs": [
    {
     "name": "stdout",
     "output_type": "stream",
     "text": [
      "[109   2  39   3   2  21   0   1   1  15   0   0 306  20  19   0   0  12\n",
      " 109   0   1  20 279 136   1   2 138  20   1]\n",
      "[0 0 0 ... 0 0 0]\n"
     ]
    }
   ],
   "source": [
    "print(feature_WD[0])\n",
    "print(label_WD)"
   ]
  },
  {
   "cell_type": "code",
   "execution_count": 530,
   "metadata": {},
   "outputs": [
    {
     "name": "stdout",
     "output_type": "stream",
     "text": [
      "(40000, 29)\n",
      "(40000,)\n"
     ]
    }
   ],
   "source": [
    "print(feature_WD.shape)\n",
    "print(label_WD.shape)"
   ]
  },
  {
   "cell_type": "code",
   "execution_count": 531,
   "metadata": {},
   "outputs": [],
   "source": [
    "# 獲取列名\n",
    "cols = all_data.columns.difference(['click'])"
   ]
  },
  {
   "cell_type": "code",
   "execution_count": 532,
   "metadata": {},
   "outputs": [],
   "source": [
    "# 構建WideDeep模型\n",
    "#導入必要的依賴包\n",
    "import os\n",
    "from keras.callbacks import ModelCheckpoint,TensorBoard\n",
    "from keras import layers,Input,Model\n",
    "import keras\n",
    "import tensorflow as tf\n",
    "\n",
    "cat_num = len(cols)\n",
    "field_cnt = cat_num\n",
    "cat_field_input = []\n",
    "field_embedding = []\n",
    "lr_embedding = []\n",
    "\n",
    "for cat in cols:\n",
    "    input_tensor = Input(shape=(1,))\n",
    "    cat_field_input.append(input_tensor)\n",
    "    nums = np.max(all_data[cat]) + 1\n",
    "    embed = keras.layers.Embedding(nums, 1, input_length=1, trainable=True)(input_tensor)\n",
    "    reshape = keras.layers.Reshape((1,))(embed)\n",
    "    lr_embedding.append(reshape)\n",
    "\n",
    "    x_embed = keras.layers.Embedding(nums, 10, input_length=1, trainable=True)(input_tensor)\n",
    "    x_reshape = keras.layers.Reshape((10,))(x_embed)\n",
    "    field_embedding.append(x_reshape)\n",
    "\n",
    "embed_layer = keras.layers.concatenate(field_embedding, axis=-1)\n",
    "embed_layer = keras.layers.Dense(20,kernel_initializer = keras.initializers.he_normal())(embed_layer)\n",
    "embed_layer = keras.layers.BatchNormalization()(embed_layer)\n",
    "embed_layer = keras.layers.Activation('softsign')(embed_layer)\n",
    "\n",
    "embed_layer = keras.layers.Dense(20,kernel_initializer = keras.initializers.he_normal())(embed_layer)\n",
    "embed_layer = keras.layers.BatchNormalization()(embed_layer)\n",
    "embed_layer = keras.layers.Activation('softsign')(embed_layer)\n",
    "\n",
    "embed_layer = keras.layers.Dense(20,kernel_initializer = keras.initializers.he_normal())(embed_layer)\n",
    "embed_layer = keras.layers.BatchNormalization()(embed_layer)\n",
    "embed_layer = keras.layers.Activation('softsign')(embed_layer)\n",
    "embed_layer = keras.layers.Dense(1)(embed_layer)\n",
    "\n",
    "lr_layer = keras.layers.add(lr_embedding + [embed_layer])\n",
    "preds = keras.layers.Activation('sigmoid')(lr_layer)\n",
    "opt = keras.optimizers.SGD(lr=0.2, momentum=0.2)\n",
    "model = Model(inputs=cat_field_input, outputs=preds)\n",
    "model.compile(loss='binary_crossentropy', optimizer=opt, metrics=['acc'])\n",
    "\n",
    "savemodel = ModelCheckpoint(filepath = 'keras_model/Wide&Deep_model.h5')"
   ]
  },
  {
   "cell_type": "code",
   "execution_count": 533,
   "metadata": {},
   "outputs": [
    {
     "name": "stdout",
     "output_type": "stream",
     "text": [
      "Train on 38000 samples, validate on 2000 samples\n",
      "Epoch 1/100\n",
      "38000/38000 [==============================] - 35s 925us/step - loss: 0.4340 - acc: 0.8250 - val_loss: 0.4361 - val_acc: 0.8110\n",
      "Epoch 2/100\n",
      "38000/38000 [==============================] - 17s 460us/step - loss: 0.4245 - acc: 0.8258 - val_loss: 0.4270 - val_acc: 0.8210\n",
      "Epoch 3/100\n",
      "38000/38000 [==============================] - 18s 482us/step - loss: 0.4209 - acc: 0.8255 - val_loss: 0.4303 - val_acc: 0.8140\n",
      "Epoch 4/100\n",
      "38000/38000 [==============================] - 20s 525us/step - loss: 0.4176 - acc: 0.8261 - val_loss: 0.4468 - val_acc: 0.8225\n",
      "Epoch 5/100\n",
      "38000/38000 [==============================] - 19s 491us/step - loss: 0.4162 - acc: 0.8262 - val_loss: 0.4440 - val_acc: 0.8085\n",
      "Epoch 6/100\n",
      "38000/38000 [==============================] - 19s 491us/step - loss: 0.4143 - acc: 0.8263 - val_loss: 0.4464 - val_acc: 0.8230\n",
      "Epoch 7/100\n",
      "38000/38000 [==============================] - 19s 498us/step - loss: 0.4142 - acc: 0.8265 - val_loss: 0.4375 - val_acc: 0.8160\n"
     ]
    }
   ],
   "source": [
    "import tensorflow as tf\n",
    "# 模型訓練\n",
    "early_stopping= keras.callbacks.EarlyStopping(monitor='val_loss', min_delta=0, patience=5, verbose=0, mode='auto', baseline=None, restore_best_weights=False)\n",
    "wide_deep_h=model.fit([feature_WD[:,i] for i in range(feature_WD.shape[1])],\n",
    "          label,batch_size=Test_batch_size,epochs=Test_Epoch,validation_split=Test_validation_split,callbacks = [savemodel,early_stopping]) "
   ]
  },
  {
   "cell_type": "markdown",
   "metadata": {},
   "source": [
    "# GBDT+LR+Deep"
   ]
  },
  {
   "cell_type": "code",
   "execution_count": 534,
   "metadata": {},
   "outputs": [
    {
     "name": "stdout",
     "output_type": "stream",
     "text": [
      "__________________________________________________________________________________________________\n",
      "Layer (type)                    Output Shape         Param #     Connected to                     \n",
      "==================================================================================================\n",
      "input_411 (InputLayer)          (None, 2685)         0                                            \n",
      "__________________________________________________________________________________________________\n",
      "dense_134 (Dense)               (None, 20)           53720       input_411[0][0]                  \n",
      "__________________________________________________________________________________________________\n",
      "batch_normalization_88 (BatchNo (None, 20)           80          dense_134[0][0]                  \n",
      "__________________________________________________________________________________________________\n",
      "activation_117 (Activation)     (None, 20)           0           batch_normalization_88[0][0]     \n",
      "__________________________________________________________________________________________________\n",
      "dense_135 (Dense)               (None, 20)           420         activation_117[0][0]             \n",
      "__________________________________________________________________________________________________\n",
      "batch_normalization_89 (BatchNo (None, 20)           80          dense_135[0][0]                  \n",
      "__________________________________________________________________________________________________\n",
      "activation_118 (Activation)     (None, 20)           0           batch_normalization_89[0][0]     \n",
      "__________________________________________________________________________________________________\n",
      "dense_136 (Dense)               (None, 20)           420         activation_118[0][0]             \n",
      "__________________________________________________________________________________________________\n",
      "batch_normalization_90 (BatchNo (None, 20)           80          dense_136[0][0]                  \n",
      "__________________________________________________________________________________________________\n",
      "input_410 (InputLayer)          (None, 582)          0                                            \n",
      "__________________________________________________________________________________________________\n",
      "activation_119 (Activation)     (None, 20)           0           batch_normalization_90[0][0]     \n",
      "__________________________________________________________________________________________________\n",
      "dense_133 (Dense)               (None, 1)            583         input_410[0][0]                  \n",
      "__________________________________________________________________________________________________\n",
      "dense_137 (Dense)               (None, 1)            21          activation_119[0][0]             \n",
      "__________________________________________________________________________________________________\n",
      "add_30 (Add)                    (None, 1)            0           dense_133[0][0]                  \n",
      "                                                                 dense_137[0][0]                  \n",
      "__________________________________________________________________________________________________\n",
      "activation_120 (Activation)     (None, 1)            0           add_30[0][0]                     \n",
      "==================================================================================================\n",
      "Total params: 55,404\n",
      "Trainable params: 55,284\n",
      "Non-trainable params: 120\n",
      "__________________________________________________________________________________________________\n",
      "None\n"
     ]
    }
   ],
   "source": [
    "# 构建WideDeep模型\n",
    "#导入必要的依赖包\n",
    "import os\n",
    "from keras.callbacks import ModelCheckpoint,TensorBoard\n",
    "from keras import layers,Input,Model\n",
    "import keras\n",
    "import tensorflow as tf\n",
    "#cat_num = len(cols)\n",
    "#field_cnt = cat_num\n",
    "#def gld_model():\n",
    "cat_field_input = []\n",
    "field_embedding = []\n",
    "lr_embedding = []\n",
    "\n",
    "input_tensor_gbdt = Input(shape=(GBDT_input_demen,))\n",
    "lr_emded = layers.Dense(1,activation=keras.activations.sigmoid,use_bias=True)(input_tensor_gbdt)\n",
    "\n",
    "input_tensor = Input(shape=(input_demen,))\n",
    "embed_layer = keras.layers.Dense(20,kernel_initializer = 'he_normal')(input_tensor)\n",
    "embed_layer = keras.layers.BatchNormalization()(embed_layer)\n",
    "embed_layer = keras.layers.Activation('softsign')(embed_layer)\n",
    "\n",
    "embed_layer = keras.layers.Dense(20,kernel_initializer = 'he_normal')(embed_layer)\n",
    "embed_layer = keras.layers.BatchNormalization()(embed_layer)\n",
    "embed_layer = keras.layers.Activation('softsign')(embed_layer)\n",
    "\n",
    "embed_layer = keras.layers.Dense(20,kernel_initializer = 'he_normal')(embed_layer)\n",
    "embed_layer = keras.layers.BatchNormalization()(embed_layer)\n",
    "embed_layer = keras.layers.Activation('softsign')(embed_layer)\n",
    "\n",
    "embed_layer = keras.layers.Dense(1)(embed_layer)\n",
    "\n",
    "lr_layer = keras.layers.add([lr_emded] + [embed_layer])\n",
    "preds = keras.layers.Activation('sigmoid')(lr_layer)\n",
    "opt = keras.optimizers.SGD(lr=0.2, momentum=0.2)\n",
    "model = Model(inputs=[input_tensor_gbdt,input_tensor], outputs=preds)\n",
    "model.compile(loss='binary_crossentropy', optimizer=opt, metrics=['acc'])\n",
    "#return model\n",
    "\n",
    "savemodel = ModelCheckpoint(filepath = 'keras_model/gld_model.h5')\n",
    "print(model.summary())"
   ]
  },
  {
   "cell_type": "code",
   "execution_count": 535,
   "metadata": {},
   "outputs": [
    {
     "name": "stdout",
     "output_type": "stream",
     "text": [
      "Train on 38000 samples, validate on 2000 samples\n",
      "Epoch 1/100\n",
      "38000/38000 [==============================] - 23s 603us/step - loss: 0.4274 - acc: 0.8247 - val_loss: 0.4284 - val_acc: 0.8160\n",
      "Epoch 2/100\n",
      "38000/38000 [==============================] - 12s 308us/step - loss: 0.4170 - acc: 0.8269 - val_loss: 0.4298 - val_acc: 0.8185\n",
      "Epoch 3/100\n",
      "38000/38000 [==============================] - 12s 304us/step - loss: 0.4134 - acc: 0.8278 - val_loss: 0.4200 - val_acc: 0.8235\n",
      "Epoch 4/100\n",
      "38000/38000 [==============================] - 12s 305us/step - loss: 0.4108 - acc: 0.8283 - val_loss: 0.4220 - val_acc: 0.8170\n",
      "Epoch 5/100\n",
      "38000/38000 [==============================] - 12s 305us/step - loss: 0.4089 - acc: 0.8280 - val_loss: 0.4182 - val_acc: 0.8190\n",
      "Epoch 6/100\n",
      "38000/38000 [==============================] - 12s 305us/step - loss: 0.4072 - acc: 0.8282 - val_loss: 0.4232 - val_acc: 0.8210\n",
      "Epoch 7/100\n",
      "38000/38000 [==============================] - 12s 304us/step - loss: 0.4055 - acc: 0.8284 - val_loss: 0.4236 - val_acc: 0.8195\n",
      "Epoch 8/100\n",
      "38000/38000 [==============================] - 12s 303us/step - loss: 0.4035 - acc: 0.8282 - val_loss: 0.4216 - val_acc: 0.8195\n",
      "Epoch 9/100\n",
      "38000/38000 [==============================] - 12s 306us/step - loss: 0.4019 - acc: 0.8295 - val_loss: 0.4159 - val_acc: 0.8235\n",
      "Epoch 10/100\n",
      "38000/38000 [==============================] - 15s 384us/step - loss: 0.4013 - acc: 0.8287 - val_loss: 0.4269 - val_acc: 0.8170\n",
      "Epoch 11/100\n",
      "38000/38000 [==============================] - 13s 343us/step - loss: 0.3995 - acc: 0.8303 - val_loss: 0.4256 - val_acc: 0.8190\n",
      "Epoch 12/100\n",
      "38000/38000 [==============================] - 13s 350us/step - loss: 0.3980 - acc: 0.8299 - val_loss: 0.4376 - val_acc: 0.8170\n",
      "Epoch 13/100\n",
      "38000/38000 [==============================] - 13s 339us/step - loss: 0.3971 - acc: 0.8297 - val_loss: 0.4239 - val_acc: 0.8130\n",
      "Epoch 14/100\n",
      "38000/38000 [==============================] - 13s 349us/step - loss: 0.3966 - acc: 0.8310 - val_loss: 0.4261 - val_acc: 0.8205\n"
     ]
    }
   ],
   "source": [
    "import tensorflow as tf\n",
    "# 模型训练\n",
    "early_stopping= keras.callbacks.EarlyStopping(monitor='val_loss', min_delta=0, patience=5, verbose=0, mode='auto', baseline=None, restore_best_weights=False)\n",
    "gbdt_lr_deep_h=model.fit([GBDT_feature,features],label,batch_size=Test_batch_size,epochs=Test_Epoch,validation_split=Test_validation_split,callbacks=[early_stopping])"
   ]
  },
  {
   "cell_type": "markdown",
   "metadata": {},
   "source": [
    "# 实验结果"
   ]
  },
  {
   "cell_type": "markdown",
   "metadata": {},
   "source": [
    "# Wide&Deep"
   ]
  },
  {
   "cell_type": "code",
   "execution_count": 503,
   "metadata": {},
   "outputs": [
    {
     "name": "stdout",
     "output_type": "stream",
     "text": [
      "平均acc: 0    0.824746\n",
      "dtype: float64\n",
      "平均val_acc: 0    0.823611\n",
      "dtype: float64 \n",
      "\n",
      "平均loss: 0    0.418576\n",
      "dtype: float64\n",
      "平均val_loss: 0    0.424223\n",
      "dtype: float64\n"
     ]
    },
    {
     "data": {
      "image/png": "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\n",
      "text/plain": [
       "<Figure size 432x288 with 1 Axes>"
      ]
     },
     "metadata": {
      "needs_background": "light"
     },
     "output_type": "display_data"
    },
    {
     "data": {
      "image/png": "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\n",
      "text/plain": [
       "<Figure size 432x288 with 1 Axes>"
      ]
     },
     "metadata": {
      "needs_background": "light"
     },
     "output_type": "display_data"
    }
   ],
   "source": [
    "wd_acc,wd_vacc,wd_loss,wd_vloss=print_result_of_train(wide_deep_h)\n",
    "print_mat(wide_deep_h)"
   ]
  },
  {
   "cell_type": "markdown",
   "metadata": {},
   "source": [
    "# GBDT+LR+Deep"
   ]
  },
  {
   "cell_type": "code",
   "execution_count": 504,
   "metadata": {},
   "outputs": [
    {
     "name": "stdout",
     "output_type": "stream",
     "text": [
      "平均acc: 0    0.826992\n",
      "dtype: float64\n",
      "平均val_acc: 0    0.828952\n",
      "dtype: float64 \n",
      "\n",
      "平均loss: 0    0.415355\n",
      "dtype: float64\n",
      "平均val_loss: 0    0.412787\n",
      "dtype: float64\n"
     ]
    },
    {
     "data": {
      "image/png": "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\n",
      "text/plain": [
       "<Figure size 432x288 with 1 Axes>"
      ]
     },
     "metadata": {
      "needs_background": "light"
     },
     "output_type": "display_data"
    },
    {
     "data": {
      "image/png": "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\n",
      "text/plain": [
       "<Figure size 432x288 with 1 Axes>"
      ]
     },
     "metadata": {
      "needs_background": "light"
     },
     "output_type": "display_data"
    }
   ],
   "source": [
    "gld_acc,gld_vacc,gld_loss,gld_vloss=print_result_of_train(gbdt_lr_deep_h)\n",
    "print_mat(gbdt_lr_deep_h)"
   ]
  },
  {
   "cell_type": "markdown",
   "metadata": {},
   "source": [
    "# acc&loss对比"
   ]
  },
  {
   "cell_type": "markdown",
   "metadata": {},
   "source": [
    "- Test_Epoch=100\n",
    "- Test_validation_split=0.05\n",
    "- Test_batch_size=20\n",
    "- Data_scaler=10000"
   ]
  },
  {
   "cell_type": "code",
   "execution_count": 37,
   "metadata": {},
   "outputs": [
    {
     "name": "stdout",
     "output_type": "stream",
     "text": [
      "model_name: gld \n",
      "index: 1 \n",
      "Acc score: 0.8316561416408472\n",
      "model_name: gld \n",
      "index: 1 \n",
      " Value acc score: 0.8530666670799254\n",
      "model_name: gld \n",
      "index: 1 \n",
      "Loss score: 0.41486596321477026\n",
      "model_name: gld \n",
      "index: 1 \n",
      " Value loss score: 0.38502414954560144\n",
      "\n",
      "\n",
      "['w&d', 'gld']\n",
      "[0.8283007530072578, 0.8316561416408472]\n",
      "[0.8395714281286512, 0.8530666670799254]\n",
      "[0.41486596321477026, 0.40408884624849295]\n",
      "[0.38502414954560144, 0.3763336058457692]\n"
     ]
    }
   ],
   "source": [
    "num_list = [wd_acc[0], gld_acc[0]]\n",
    "num_list1 = [wd_vacc[0], gld_vacc[0]]\n",
    "num_list2 = [wd_loss[0], gld_loss[0]]\n",
    "num_list3 = [wd_vloss[0], gld_vloss[0]]\n",
    "model_name=['w&d','gld']\n",
    "print_acc_loss_compare(num_list,'acc')\n",
    "print_acc_loss_compare(num_list1,'vacc')\n",
    "print_acc_loss_compare(num_list2,'loss')\n",
    "print_acc_loss_compare(num_list3,'vloss')\n",
    "print('\\n')\n",
    "print(model_name)\n",
    "print(num_list)#acc\n",
    "print(num_list1)#value acc\n",
    "print(num_list2)#loss\n",
    "print(num_list3)#value loss"
   ]
  },
  {
   "cell_type": "markdown",
   "metadata": {},
   "source": [
    "- Test_Epoch=100\n",
    "- Test_validation_split=0.05\n",
    "- Test_batch_size=20\n",
    "- Data_scaler=20000"
   ]
  },
  {
   "cell_type": "code",
   "execution_count": 71,
   "metadata": {},
   "outputs": [
    {
     "name": "stdout",
     "output_type": "stream",
     "text": [
      "model_name: gld \n",
      "index: 1 \n",
      "Acc score: 0.8313684220248433\n",
      "model_name: gld \n",
      "index: 1 \n",
      " Value acc score: 0.8120000000433489\n",
      "model_name: gld \n",
      "index: 1 \n",
      "Loss score: 0.41315290155536255\n",
      "model_name: gld \n",
      "index: 1 \n",
      " Value loss score: 0.4538723536729813\n",
      "\n",
      "\n",
      "['w&d', 'gld']\n",
      "[0.829489474629101, 0.8313684220248433]\n",
      "[0.8091000006198884, 0.8120000000433489]\n",
      "[0.41315290155536255, 0.40433288437113807]\n",
      "[0.4538723536729813, 0.44151556944305254]\n"
     ]
    }
   ],
   "source": [
    "num_list = [wd_acc[0], gld_acc[0]]\n",
    "num_list1 = [wd_vacc[0], gld_vacc[0]]\n",
    "num_list2 = [wd_loss[0], gld_loss[0]]\n",
    "num_list3 = [wd_vloss[0], gld_vloss[0]]\n",
    "model_name=['w&d','gld']\n",
    "print_acc_loss_compare(num_list,'acc')\n",
    "print_acc_loss_compare(num_list1,'vacc')\n",
    "print_acc_loss_compare(num_list2,'loss')\n",
    "print_acc_loss_compare(num_list3,'vloss')\n",
    "print('\\n')\n",
    "print(model_name)\n",
    "print(num_list)#acc\n",
    "print(num_list1)#value acc\n",
    "print(num_list2)#loss\n",
    "print(num_list3)#value loss"
   ]
  },
  {
   "cell_type": "markdown",
   "metadata": {},
   "source": [
    "- Test_Epoch=100\n",
    "- Test_validation_split=0.05\n",
    "- Test_batch_size=20\n",
    "- Data_scaler=30000"
   ]
  },
  {
   "cell_type": "code",
   "execution_count": 105,
   "metadata": {},
   "outputs": [
    {
     "name": "stdout",
     "output_type": "stream",
     "text": [
      "model_name: gld \n",
      "index: 1 \n",
      "Acc score: 0.8266115301264856\n",
      "model_name: gld \n",
      "index: 1 \n",
      " Value acc score: 0.8259047617231097\n",
      "model_name: gld \n",
      "index: 1 \n",
      "Loss score: 0.41688094892167954\n",
      "model_name: gld \n",
      "index: 1 \n",
      " Value loss score: 0.42613344131481085\n",
      "\n",
      "\n",
      "['w&d', 'gld']\n",
      "[0.8252255651825352, 0.8266115301264856]\n",
      "[0.8221428565184273, 0.8259047617231097]\n",
      "[0.41688094892167954, 0.4147103339090084]\n",
      "[0.42613344131481085, 0.4116221128475098]\n"
     ]
    }
   ],
   "source": [
    "num_list = [wd_acc[0], gld_acc[0]]\n",
    "num_list1 = [wd_vacc[0], gld_vacc[0]]\n",
    "num_list2 = [wd_loss[0], gld_loss[0]]\n",
    "num_list3 = [wd_vloss[0], gld_vloss[0]]\n",
    "model_name=['w&d','gld']\n",
    "print_acc_loss_compare(num_list,'acc')\n",
    "print_acc_loss_compare(num_list1,'vacc')\n",
    "print_acc_loss_compare(num_list2,'loss')\n",
    "print_acc_loss_compare(num_list3,'vloss')\n",
    "print('\\n')\n",
    "print(model_name)\n",
    "print(num_list)#acc\n",
    "print(num_list1)#value acc\n",
    "print(num_list2)#loss\n",
    "print(num_list3)#value loss"
   ]
  },
  {
   "cell_type": "markdown",
   "metadata": {},
   "source": [
    "- Test_Epoch=100\n",
    "- Test_validation_split=0.05\n",
    "- Test_batch_size=20\n",
    "- Data_scaler=40000"
   ]
  },
  {
   "cell_type": "code",
   "execution_count": 207,
   "metadata": {},
   "outputs": [
    {
     "name": "stdout",
     "output_type": "stream",
     "text": [
      "model_name: gld \n",
      "index: 1 \n",
      "Acc score: 0.8294400594928111\n",
      "model_name: gld \n",
      "index: 1 \n",
      " Value acc score: 0.8205277779036098\n",
      "model_name: gld \n",
      "index: 1 \n",
      "Loss score: 0.41652344896890336\n",
      "model_name: gld \n",
      "index: 1 \n",
      " Value loss score: 0.42960240197452637\n",
      "\n",
      "\n",
      "['w&d', 'gld']\n",
      "[0.8259545465933079, 0.8294400594928111]\n",
      "[0.817636364535852, 0.8205277779036098]\n",
      "[0.41652344896890336, 0.40316999127031766]\n",
      "[0.42960240197452637, 0.4210809467484553]\n"
     ]
    }
   ],
   "source": [
    "num_list = [wd_acc[0], gld_acc[0]]\n",
    "num_list1 = [wd_vacc[0], gld_vacc[0]]\n",
    "num_list2 = [wd_loss[0], gld_loss[0]]\n",
    "num_list3 = [wd_vloss[0], gld_vloss[0]]\n",
    "model_name=['w&d','gld']\n",
    "print_acc_loss_compare(num_list,'acc')\n",
    "print_acc_loss_compare(num_list1,'vacc')\n",
    "print_acc_loss_compare(num_list2,'loss')\n",
    "print_acc_loss_compare(num_list3,'vloss')\n",
    "print('\\n')\n",
    "print(model_name)\n",
    "print(num_list)#acc\n",
    "print(num_list1)#value acc\n",
    "print(num_list2)#loss\n",
    "print(num_list3)#value loss"
   ]
  },
  {
   "cell_type": "markdown",
   "metadata": {},
   "source": [
    "- Test_Epoch=100\n",
    "- Test_validation_split=0.05\n",
    "- Test_batch_size=20\n",
    "- Data_scaler=50000"
   ]
  },
  {
   "cell_type": "code",
   "execution_count": 173,
   "metadata": {},
   "outputs": [
    {
     "name": "stdout",
     "output_type": "stream",
     "text": [
      "model_name: gld \n",
      "index: 1 \n",
      "Acc score: 0.82726081973628\n",
      "model_name: gld \n",
      "index: 1 \n",
      " Value acc score: 0.8283111124568516\n",
      "model_name: gld \n",
      "index: 1 \n",
      "Loss score: 0.41653082115413476\n",
      "model_name: gld \n",
      "index: 1 \n",
      " Value loss score: 0.42017072203484457\n",
      "\n",
      "\n",
      "['w&d', 'gld']\n",
      "[0.8254545465462516, 0.82726081973628]\n",
      "[0.8239636379588734, 0.8283111124568516]\n",
      "[0.41653082115413476, 0.4100835666851691]\n",
      "[0.42017072203484457, 0.40831885970301096]\n"
     ]
    }
   ],
   "source": [
    "num_list = [wd_acc[0], gld_acc[0]]\n",
    "num_list1 = [wd_vacc[0], gld_vacc[0]]\n",
    "num_list2 = [wd_loss[0], gld_loss[0]]\n",
    "num_list3 = [wd_vloss[0], gld_vloss[0]]\n",
    "model_name=['w&d','gld']\n",
    "print_acc_loss_compare(num_list,'acc')\n",
    "print_acc_loss_compare(num_list1,'vacc')\n",
    "print_acc_loss_compare(num_list2,'loss')\n",
    "print_acc_loss_compare(num_list3,'vloss')\n",
    "print('\\n')\n",
    "print(model_name)\n",
    "print(num_list)#acc\n",
    "print(num_list1)#value acc\n",
    "print(num_list2)#loss\n",
    "print(num_list3)#value loss"
   ]
  },
  {
   "cell_type": "markdown",
   "metadata": {},
   "source": [
    "- Test_Epoch=60\n",
    "- Test_validation_split=0.05\n",
    "- Test_batch_size=20\n",
    "- Data_scaler=60000"
   ]
  },
  {
   "cell_type": "code",
   "execution_count": 139,
   "metadata": {},
   "outputs": [
    {
     "name": "stdout",
     "output_type": "stream",
     "text": [
      "model_name: gld \n",
      "index: 1 \n",
      "Acc score: 0.8274407905366337\n",
      "model_name: gld \n",
      "index: 1 \n",
      " Value acc score: 0.8324583351612092\n",
      "model_name: gld \n",
      "index: 1 \n",
      "Loss score: 0.4181288280354854\n",
      "model_name: gld \n",
      "index: 1 \n",
      " Value loss score: 0.41297944068908693\n",
      "\n",
      "\n",
      "['w&d', 'gld']\n",
      "[0.8251328333906062, 0.8274407905366337]\n",
      "[0.8300476203645978, 0.8324583351612092]\n",
      "[0.4181288280354854, 0.40923229563425767]\n",
      "[0.41297944068908693, 0.4071068193390965]\n"
     ]
    }
   ],
   "source": [
    "num_list = [wd_acc[0], gld_acc[0]]\n",
    "num_list1 = [wd_vacc[0], gld_vacc[0]]\n",
    "num_list2 = [wd_loss[0], gld_loss[0]]\n",
    "num_list3 = [wd_vloss[0], gld_vloss[0]]\n",
    "model_name=['w&d','gld']\n",
    "print_acc_loss_compare(num_list,'acc')\n",
    "print_acc_loss_compare(num_list1,'vacc')\n",
    "print_acc_loss_compare(num_list2,'loss')\n",
    "print_acc_loss_compare(num_list3,'vloss')\n",
    "print('\\n')\n",
    "print(model_name)\n",
    "print(num_list)#acc\n",
    "print(num_list1)#value acc\n",
    "print(num_list2)#loss\n",
    "print(num_list3)#value loss"
   ]
  },
  {
   "cell_type": "markdown",
   "metadata": {},
   "source": [
    "- Test_Epoch=60\n",
    "- Test_validation_split=0.05\n",
    "- Test_batch_size=20\n",
    "- Data_scaler=70000"
   ]
  },
  {
   "cell_type": "code",
   "execution_count": 242,
   "metadata": {},
   "outputs": [
    {
     "name": "stdout",
     "output_type": "stream",
     "text": [
      "model_name: gld \n",
      "index: 1 \n",
      "Acc score: 0.8298107042928439\n",
      "model_name: gld \n",
      "index: 1 \n",
      " Value acc score: 0.81741176765506\n",
      "model_name: gld \n",
      "index: 1 \n",
      "Loss score: 0.41610723531880006\n",
      "model_name: gld \n",
      "index: 1 \n",
      " Value loss score: 0.4344404025892822\n",
      "\n",
      "\n",
      "['w&d', 'gld']\n",
      "[0.8265692814477149, 0.8298107042928439]\n",
      "[0.8157551050672726, 0.81741176765506]\n",
      "[0.41610723531880006, 0.4000879002689049]\n",
      "[0.4344404025892822, 0.4258872690095621]\n"
     ]
    }
   ],
   "source": [
    "num_list = [wd_acc[0], gld_acc[0]]\n",
    "num_list1 = [wd_vacc[0], gld_vacc[0]]\n",
    "num_list2 = [wd_loss[0], gld_loss[0]]\n",
    "num_list3 = [wd_vloss[0], gld_vloss[0]]\n",
    "model_name=['w&d','gld']\n",
    "print_acc_loss_compare(num_list,'acc')\n",
    "print_acc_loss_compare(num_list1,'vacc')\n",
    "print_acc_loss_compare(num_list2,'loss')\n",
    "print_acc_loss_compare(num_list3,'vloss')\n",
    "print('\\n')\n",
    "print(model_name)\n",
    "print(num_list)#acc\n",
    "print(num_list1)#value acc\n",
    "print(num_list2)#loss\n",
    "print(num_list3)#value loss"
   ]
  },
  {
   "cell_type": "markdown",
   "metadata": {},
   "source": [
    "- Test_Epoch=100\n",
    "- Test_validation_split=0.05\n",
    "- Test_batch_size=20\n",
    "- Data_scaler=80000"
   ]
  },
  {
   "cell_type": "code",
   "execution_count": 276,
   "metadata": {},
   "outputs": [
    {
     "name": "stdout",
     "output_type": "stream",
     "text": [
      "model_name: gld \n",
      "index: 1 \n",
      "Acc score: 0.829868422080463\n",
      "model_name: gld \n",
      "index: 1 \n",
      " Value acc score: 0.8246944447689585\n",
      "model_name: gld \n",
      "index: 1 \n",
      "Loss score: 0.412280137172459\n",
      "model_name: gld \n",
      "index: 1 \n",
      " Value loss score: 0.4224125688895583\n",
      "\n",
      "\n",
      "['w&d', 'gld']\n",
      "[0.8260578957686299, 0.829868422080463]\n",
      "[0.8224499999880791, 0.8246944447689585]\n",
      "[0.412280137172459, 0.3982762289172506]\n",
      "[0.4224125688895583, 0.41715555038096164]\n"
     ]
    }
   ],
   "source": [
    "num_list = [wd_acc[0], gld_acc[0]]\n",
    "num_list1 = [wd_vacc[0], gld_vacc[0]]\n",
    "num_list2 = [wd_loss[0], gld_loss[0]]\n",
    "num_list3 = [wd_vloss[0], gld_vloss[0]]\n",
    "model_name=['w&d','gld']\n",
    "print_acc_loss_compare(num_list,'acc')\n",
    "print_acc_loss_compare(num_list1,'vacc')\n",
    "print_acc_loss_compare(num_list2,'loss')\n",
    "print_acc_loss_compare(num_list3,'vloss')\n",
    "print('\\n')\n",
    "print(model_name)\n",
    "print(num_list)#acc\n",
    "print(num_list1)#value acc\n",
    "print(num_list2)#loss\n",
    "print(num_list3)#value loss"
   ]
  },
  {
   "cell_type": "markdown",
   "metadata": {},
   "source": [
    "- Test_Epoch=100\n",
    "- Test_validation_split=0.05\n",
    "- Test_batch_size=20\n",
    "- Data_scaler=50000\n",
    "- 2/6\n",
    "\n",
    "- w&D 3173\n",
    "- wide&deep 1041\n",
    "- max-deepth=7"
   ]
  },
  {
   "cell_type": "code",
   "execution_count": 311,
   "metadata": {},
   "outputs": [
    {
     "name": "stdout",
     "output_type": "stream",
     "text": [
      "model_name: gld \n",
      "index: 1 \n",
      "Acc score: 0.8275326328315235\n",
      "model_name: gld \n",
      "index: 1 \n",
      " Value acc score: 0.8279600011825561\n",
      "model_name: gld \n",
      "index: 1 \n",
      "Loss score: 0.4206028727857691\n",
      "model_name: gld \n",
      "index: 1 \n",
      " Value loss score: 0.4178408860564232\n",
      "\n",
      "\n",
      "['w&d', 'gld']\n",
      "[0.8250436103075071, 0.8275326328315235]\n",
      "[0.8251428587096078, 0.8279600011825561]\n",
      "[0.4206028727857691, 0.40940847609764647]\n",
      "[0.4178408860564232, 0.4089965452194214]\n"
     ]
    }
   ],
   "source": [
    "num_list = [wd_acc[0], gld_acc[0]]\n",
    "num_list1 = [wd_vacc[0], gld_vacc[0]]\n",
    "num_list2 = [wd_loss[0], gld_loss[0]]\n",
    "num_list3 = [wd_vloss[0], gld_vloss[0]]\n",
    "model_name=['w&d','gld']\n",
    "print_acc_loss_compare(num_list,'acc')\n",
    "print_acc_loss_compare(num_list1,'vacc')\n",
    "print_acc_loss_compare(num_list2,'loss')\n",
    "print_acc_loss_compare(num_list3,'vloss')\n",
    "print('\\n')\n",
    "print(model_name)\n",
    "print(num_list)#acc\n",
    "print(num_list1)#value acc\n",
    "print(num_list2)#loss\n",
    "print(num_list3)#value loss"
   ]
  },
  {
   "cell_type": "markdown",
   "metadata": {},
   "source": [
    "- Test_Epoch=100\n",
    "- Test_validation_split=0.05\n",
    "- Test_batch_size=20\n",
    "- Data_scaler=50000\n",
    "- 2/5\n",
    "\n",
    "- w&D 3173\n",
    "- wide&deep 1253\n",
    "- max-deepth=8"
   ]
  },
  {
   "cell_type": "code",
   "execution_count": 325,
   "metadata": {},
   "outputs": [
    {
     "name": "stdout",
     "output_type": "stream",
     "text": [
      "model_name: gld \n",
      "index: 1 \n",
      "Acc score: 0.8280631590980267\n",
      "model_name: gld \n",
      "index: 1 \n",
      " Value acc score: 0.828153848354633\n",
      "model_name: gld \n",
      "index: 1 \n",
      "Loss score: 0.4206028727857691\n",
      "model_name: gld \n",
      "index: 1 \n",
      " Value loss score: 0.4178408860564232\n",
      "\n",
      "\n",
      "['w&d', 'gld']\n",
      "[0.8250436103075071, 0.8280631590980267]\n",
      "[0.8251428587096078, 0.828153848354633]\n",
      "[0.4206028727857691, 0.4067056065204172]\n",
      "[0.4178408860564232, 0.4065344538230162]\n"
     ]
    }
   ],
   "source": [
    "num_list = [wd_acc[0], gld_acc[0]]\n",
    "num_list1 = [wd_vacc[0], gld_vacc[0]]\n",
    "num_list2 = [wd_loss[0], gld_loss[0]]\n",
    "num_list3 = [wd_vloss[0], gld_vloss[0]]\n",
    "model_name=['w&d','gld']\n",
    "print_acc_loss_compare(num_list,'acc')\n",
    "print_acc_loss_compare(num_list1,'vacc')\n",
    "print_acc_loss_compare(num_list2,'loss')\n",
    "print_acc_loss_compare(num_list3,'vloss')\n",
    "print('\\n')\n",
    "print(model_name)\n",
    "print(num_list)#acc\n",
    "print(num_list1)#value acc\n",
    "print(num_list2)#loss\n",
    "print(num_list3)#value loss"
   ]
  },
  {
   "cell_type": "markdown",
   "metadata": {},
   "source": [
    "- Test_Epoch=100\n",
    "- Test_validation_split=0.05\n",
    "- Test_batch_size=20\n",
    "- Data_scaler=50000\n",
    "- 2/5\n",
    "\n",
    "- w&D 3173\n",
    "- wide&deep 1454\n",
    "- max-deepth=9"
   ]
  },
  {
   "cell_type": "code",
   "execution_count": 338,
   "metadata": {},
   "outputs": [
    {
     "name": "stdout",
     "output_type": "stream",
     "text": [
      "model_name: gld \n",
      "index: 1 \n",
      "Acc score: 0.8289894748912219\n",
      "model_name: gld \n",
      "index: 1 \n",
      " Value acc score: 0.8274000017113156\n",
      "model_name: gld \n",
      "index: 1 \n",
      "Loss score: 0.4206028727857691\n",
      "model_name: gld \n",
      "index: 1 \n",
      " Value loss score: 0.4178408860564232\n",
      "\n",
      "\n",
      "['w&d', 'gld']\n",
      "[0.8250436103075071, 0.8289894748912219]\n",
      "[0.8251428587096078, 0.8274000017113156]\n",
      "[0.4206028727857691, 0.4029218408329445]\n",
      "[0.4178408860564232, 0.4104033864471648]\n"
     ]
    }
   ],
   "source": [
    "num_list = [wd_acc[0], gld_acc[0]]\n",
    "num_list1 = [wd_vacc[0], gld_vacc[0]]\n",
    "num_list2 = [wd_loss[0], gld_loss[0]]\n",
    "num_list3 = [wd_vloss[0], gld_vloss[0]]\n",
    "model_name=['w&d','gld']\n",
    "print_acc_loss_compare(num_list,'acc')\n",
    "print_acc_loss_compare(num_list1,'vacc')\n",
    "print_acc_loss_compare(num_list2,'loss')\n",
    "print_acc_loss_compare(num_list3,'vloss')\n",
    "print('\\n')\n",
    "print(model_name)\n",
    "print(num_list)#acc\n",
    "print(num_list1)#value acc\n",
    "print(num_list2)#loss\n",
    "print(num_list3)#value loss"
   ]
  },
  {
   "cell_type": "markdown",
   "metadata": {},
   "source": [
    "- Test_Epoch=100\n",
    "- Test_validation_split=0.05\n",
    "- Test_batch_size=20\n",
    "- Data_scaler=50000\n",
    "- 2/5\n",
    "\n",
    "- w&D 3173\n",
    "- wide&deep 811\n",
    "- max-deepth=6"
   ]
  },
  {
   "cell_type": "code",
   "execution_count": 350,
   "metadata": {},
   "outputs": [
    {
     "name": "stdout",
     "output_type": "stream",
     "text": [
      "model_name: gld \n",
      "index: 1 \n",
      "Acc score: 0.8289894748912219\n",
      "model_name: gld \n",
      "index: 1 \n",
      " Value acc score: 0.8274000017113156\n",
      "model_name: gld \n",
      "index: 1 \n",
      "Loss score: 0.4206028727857691\n",
      "model_name: gld \n",
      "index: 1 \n",
      " Value loss score: 0.4178408860564232\n",
      "\n",
      "\n",
      "['w&d', 'gld']\n",
      "[0.8250436103075071, 0.8289894748912219]\n",
      "[0.8251428587096078, 0.8274000017113156]\n",
      "[0.4206028727857691, 0.4029218408329445]\n",
      "[0.4178408860564232, 0.4104033864471648]\n"
     ]
    }
   ],
   "source": [
    "num_list = [wd_acc[0], gld_acc[0]]\n",
    "num_list1 = [wd_vacc[0], gld_vacc[0]]\n",
    "num_list2 = [wd_loss[0], gld_loss[0]]\n",
    "num_list3 = [wd_vloss[0], gld_vloss[0]]\n",
    "model_name=['w&d','gld']\n",
    "print_acc_loss_compare(num_list,'acc')\n",
    "print_acc_loss_compare(num_list1,'vacc')\n",
    "print_acc_loss_compare(num_list2,'loss')\n",
    "print_acc_loss_compare(num_list3,'vloss')\n",
    "print('\\n')\n",
    "print(model_name)\n",
    "print(num_list)#acc\n",
    "print(num_list1)#value acc\n",
    "print(num_list2)#loss\n",
    "print(num_list3)#value loss"
   ]
  },
  {
   "cell_type": "markdown",
   "metadata": {},
   "source": [
    "- Test_Epoch=100\n",
    "- Test_validation_split=0.05\n",
    "- Test_batch_size=20\n",
    "- Data_scaler=50000\n",
    "- 2/5\n",
    "\n",
    "- w&D 3173\n",
    "- wide&deep 613\n",
    "- max-deepth=5"
   ]
  },
  {
   "cell_type": "code",
   "execution_count": 363,
   "metadata": {},
   "outputs": [
    {
     "name": "stdout",
     "output_type": "stream",
     "text": [
      "model_name: gld \n",
      "index: 1 \n",
      "Acc score: 0.8273224890300532\n",
      "model_name: gld \n",
      "index: 1 \n",
      " Value acc score: 0.8281090924089605\n",
      "model_name: gld \n",
      "index: 1 \n",
      "Loss score: 0.4206028727857691\n",
      "model_name: gld \n",
      "index: 1 \n",
      " Value loss score: 0.4178408860564232\n",
      "\n",
      "\n",
      "['w&d', 'gld']\n",
      "[0.8250436103075071, 0.8273224890300532]\n",
      "[0.8251428587096078, 0.8281090924089605]\n",
      "[0.4206028727857691, 0.40893613288162994]\n",
      "[0.4178408860564232, 0.4076314167813821]\n"
     ]
    }
   ],
   "source": [
    "num_list = [wd_acc[0], gld_acc[0]]\n",
    "num_list1 = [wd_vacc[0], gld_vacc[0]]\n",
    "num_list2 = [wd_loss[0], gld_loss[0]]\n",
    "num_list3 = [wd_vloss[0], gld_vloss[0]]\n",
    "model_name=['w&d','gld']\n",
    "print_acc_loss_compare(num_list,'acc')\n",
    "print_acc_loss_compare(num_list1,'vacc')\n",
    "print_acc_loss_compare(num_list2,'loss')\n",
    "print_acc_loss_compare(num_list3,'vloss')\n",
    "print('\\n')\n",
    "print(model_name)\n",
    "print(num_list)#acc\n",
    "print(num_list1)#value acc\n",
    "print(num_list2)#loss\n",
    "print(num_list3)#value loss"
   ]
  },
  {
   "cell_type": "markdown",
   "metadata": {},
   "source": [
    "- Test_Epoch=100\n",
    "- Test_validation_split=0.05\n",
    "- Test_batch_size=20\n",
    "- Data_scaler=50000\n",
    "- 2/5\n",
    "\n",
    "- w&D 3173\n",
    "- wide&deep 613\n",
    "- max-deepth=4"
   ]
  },
  {
   "cell_type": "code",
   "execution_count": 375,
   "metadata": {},
   "outputs": [
    {
     "name": "stdout",
     "output_type": "stream",
     "text": [
      "model_name: gld \n",
      "index: 1 \n",
      "Acc score: 0.8275754397741536\n",
      "model_name: gld \n",
      "index: 1 \n",
      " Value acc score: 0.8271333347956341\n",
      "model_name: gld \n",
      "index: 1 \n",
      "Loss score: 0.4206028727857691\n",
      "model_name: gld \n",
      "index: 1 \n",
      " Value loss score: 0.4178408860564232\n",
      "\n",
      "\n",
      "['w&d', 'gld']\n",
      "[0.8250436103075071, 0.8275754397741536]\n",
      "[0.8251428587096078, 0.8271333347956341]\n",
      "[0.4206028727857691, 0.4079251193378055]\n",
      "[0.4178408860564232, 0.408469817891717]\n"
     ]
    }
   ],
   "source": [
    "num_list = [wd_acc[0], gld_acc[0]]\n",
    "num_list1 = [wd_vacc[0], gld_vacc[0]]\n",
    "num_list2 = [wd_loss[0], gld_loss[0]]\n",
    "num_list3 = [wd_vloss[0], gld_vloss[0]]\n",
    "model_name=['w&d','gld']\n",
    "print_acc_loss_compare(num_list,'acc')\n",
    "print_acc_loss_compare(num_list1,'vacc')\n",
    "print_acc_loss_compare(num_list2,'loss')\n",
    "print_acc_loss_compare(num_list3,'vloss')\n",
    "print('\\n')\n",
    "print(model_name)\n",
    "print(num_list)#acc\n",
    "print(num_list1)#value acc\n",
    "print(num_list2)#loss\n",
    "print(num_list3)#value loss"
   ]
  },
  {
   "cell_type": "markdown",
   "metadata": {},
   "source": [
    "- Test_Epoch=100\n",
    "- Test_validation_split=0.05\n",
    "- Test_batch_size=20\n",
    "- Data_scaler=50000\n",
    "- 2/5\n",
    "\n",
    "- w&D 3173\n",
    "- wide&deep 295\n",
    "- max-deepth=3"
   ]
  },
  {
   "cell_type": "code",
   "execution_count": 387,
   "metadata": {},
   "outputs": [
    {
     "name": "stdout",
     "output_type": "stream",
     "text": [
      "model_name: gld \n",
      "index: 1 \n",
      "Acc score: 0.8275754397741536\n",
      "model_name: gld \n",
      "index: 1 \n",
      " Value acc score: 0.8271333347956341\n",
      "model_name: gld \n",
      "index: 1 \n",
      "Loss score: 0.4206028727857691\n",
      "model_name: gld \n",
      "index: 1 \n",
      " Value loss score: 0.4178408860564232\n",
      "\n",
      "\n",
      "['w&d', 'gld']\n",
      "[0.8250436103075071, 0.8275754397741536]\n",
      "[0.8251428587096078, 0.8271333347956341]\n",
      "[0.4206028727857691, 0.4079251193378055]\n",
      "[0.4178408860564232, 0.408469817891717]\n"
     ]
    }
   ],
   "source": [
    "num_list = [wd_acc[0], gld_acc[0]]\n",
    "num_list1 = [wd_vacc[0], gld_vacc[0]]\n",
    "num_list2 = [wd_loss[0], gld_loss[0]]\n",
    "num_list3 = [wd_vloss[0], gld_vloss[0]]\n",
    "model_name=['w&d','gld']\n",
    "print_acc_loss_compare(num_list,'acc')\n",
    "print_acc_loss_compare(num_list1,'vacc')\n",
    "print_acc_loss_compare(num_list2,'loss')\n",
    "print_acc_loss_compare(num_list3,'vloss')\n",
    "print('\\n')\n",
    "print(model_name)\n",
    "print(num_list)#acc\n",
    "print(num_list1)#value acc\n",
    "print(num_list2)#loss\n",
    "print(num_list3)#value loss"
   ]
  },
  {
   "cell_type": "markdown",
   "metadata": {},
   "source": [
    "- Test_Epoch=100\n",
    "- Test_validation_split=0.05\n",
    "- Test_batch_size=20\n",
    "- Data_scaler=50000\n",
    "- 2/5\n",
    "\n",
    "- w&D 3173\n",
    "- wide&deep 186\n",
    "- max-deepth=2"
   ]
  },
  {
   "cell_type": "code",
   "execution_count": 398,
   "metadata": {},
   "outputs": [
    {
     "name": "stdout",
     "output_type": "stream",
     "text": [
      "model_name: gld \n",
      "index: 1 \n",
      "Acc score: 0.8275754397741536\n",
      "model_name: gld \n",
      "index: 1 \n",
      " Value acc score: 0.8271333347956341\n",
      "model_name: gld \n",
      "index: 1 \n",
      "Loss score: 0.4206028727857691\n",
      "model_name: gld \n",
      "index: 1 \n",
      " Value loss score: 0.4178408860564232\n",
      "\n",
      "\n",
      "['w&d', 'gld']\n",
      "[0.8250436103075071, 0.8275754397741536]\n",
      "[0.8251428587096078, 0.8271333347956341]\n",
      "[0.4206028727857691, 0.4079251193378055]\n",
      "[0.4178408860564232, 0.408469817891717]\n"
     ]
    }
   ],
   "source": [
    "num_list = [wd_acc[0], gld_acc[0]]\n",
    "num_list1 = [wd_vacc[0], gld_vacc[0]]\n",
    "num_list2 = [wd_loss[0], gld_loss[0]]\n",
    "num_list3 = [wd_vloss[0], gld_vloss[0]]\n",
    "model_name=['w&d','gld']\n",
    "print_acc_loss_compare(num_list,'acc')\n",
    "print_acc_loss_compare(num_list1,'vacc')\n",
    "print_acc_loss_compare(num_list2,'loss')\n",
    "print_acc_loss_compare(num_list3,'vloss')\n",
    "print('\\n')\n",
    "print(model_name)\n",
    "print(num_list)#acc\n",
    "print(num_list1)#value acc\n",
    "print(num_list2)#loss\n",
    "print(num_list3)#value loss"
   ]
  },
  {
   "cell_type": "markdown",
   "metadata": {},
   "source": [
    "- Test_Epoch=100\n",
    "- Test_validation_split=0.05\n",
    "- Test_batch_size=20\n",
    "- Data_scaler=50000\n",
    "- 2/5\n",
    "\n",
    "- w&D 3173\n",
    "- wide&deep 186\n",
    "- max-deepth=1"
   ]
  },
  {
   "cell_type": "code",
   "execution_count": 409,
   "metadata": {},
   "outputs": [
    {
     "name": "stdout",
     "output_type": "stream",
     "text": [
      "model_name: gld \n",
      "index: 1 \n",
      "Acc score: 0.8275754397741536\n",
      "model_name: gld \n",
      "index: 1 \n",
      " Value acc score: 0.8271333347956341\n",
      "model_name: gld \n",
      "index: 1 \n",
      "Loss score: 0.4206028727857691\n",
      "model_name: gld \n",
      "index: 1 \n",
      " Value loss score: 0.4178408860564232\n",
      "\n",
      "\n",
      "['w&d', 'gld']\n",
      "[0.8250436103075071, 0.8275754397741536]\n",
      "[0.8251428587096078, 0.8271333347956341]\n",
      "[0.4206028727857691, 0.4079251193378055]\n",
      "[0.4178408860564232, 0.408469817891717]\n"
     ]
    }
   ],
   "source": [
    "num_list = [wd_acc[0], gld_acc[0]]\n",
    "num_list1 = [wd_vacc[0], gld_vacc[0]]\n",
    "num_list2 = [wd_loss[0], gld_loss[0]]\n",
    "num_list3 = [wd_vloss[0], gld_vloss[0]]\n",
    "model_name=['w&d','gld']\n",
    "print_acc_loss_compare(num_list,'acc')\n",
    "print_acc_loss_compare(num_list1,'vacc')\n",
    "print_acc_loss_compare(num_list2,'loss')\n",
    "print_acc_loss_compare(num_list3,'vloss')\n",
    "print('\\n')\n",
    "print(model_name)\n",
    "print(num_list)#acc\n",
    "print(num_list1)#value acc\n",
    "print(num_list2)#loss\n",
    "print(num_list3)#value loss"
   ]
  }
 ],
 "metadata": {
  "kernelspec": {
   "display_name": "Python 3",
   "language": "python",
   "name": "python3"
  },
  "language_info": {
   "codemirror_mode": {
    "name": "ipython",
    "version": 3
   },
   "file_extension": ".py",
   "mimetype": "text/x-python",
   "name": "python",
   "nbconvert_exporter": "python",
   "pygments_lexer": "ipython3",
   "version": "3.7.3"
  }
 },
 "nbformat": 4,
 "nbformat_minor": 4
}
